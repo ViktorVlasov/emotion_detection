{
 "cells": [
  {
   "cell_type": "code",
   "execution_count": 2,
   "metadata": {},
   "outputs": [
    {
     "name": "stderr",
     "output_type": "stream",
     "text": [
      "/Users/vlasov/Desktop/current_projects/my_first_data_project/mfdp-sentiment/.venv/lib/python3.11/site-packages/tqdm/auto.py:21: TqdmWarning: IProgress not found. Please update jupyter and ipywidgets. See https://ipywidgets.readthedocs.io/en/stable/user_install.html\n",
      "  from .autonotebook import tqdm as notebook_tqdm\n"
     ]
    }
   ],
   "source": [
    "import pandas as pd\n",
    "from datasets import load_dataset"
   ]
  },
  {
   "cell_type": "code",
   "execution_count": 4,
   "metadata": {},
   "outputs": [
    {
     "name": "stderr",
     "output_type": "stream",
     "text": [
      "No config specified, defaulting to: cedr/main\n",
      "Found cached dataset cedr (/Users/vlasov/.cache/huggingface/datasets/cedr/main/0.1.1/117570489cbabbdf8de619bd31918a1cd680a7f286b89d04af340d0691dc2d66)\n",
      "100%|██████████| 2/2 [00:00<00:00, 168.71it/s]\n"
     ]
    },
    {
     "data": {
      "text/plain": [
       "DatasetDict({\n",
       "    train: Dataset({\n",
       "        features: ['text', 'labels', 'source'],\n",
       "        num_rows: 7528\n",
       "    })\n",
       "    test: Dataset({\n",
       "        features: ['text', 'labels', 'source'],\n",
       "        num_rows: 1882\n",
       "    })\n",
       "})"
      ]
     },
     "execution_count": 4,
     "metadata": {},
     "output_type": "execute_result"
    }
   ],
   "source": [
    "cedr = load_dataset('cedr')\n",
    "cedr"
   ]
  },
  {
   "cell_type": "code",
   "execution_count": 5,
   "metadata": {},
   "outputs": [],
   "source": [
    "cedr_id2label = {0: \"joy\", 1: \"sadness\", 2: \"surprise\", 3: \"fear\", 4: \"anger\"}\n",
    "\n",
    "df_cedr_train = pd.DataFrame(cedr['train'])\n",
    "df_cedr_test = pd.DataFrame(cedr['test'])\n",
    "\n",
    "df_cedr_train['labels'] = df_cedr_train['labels'].apply(lambda x: [cedr_id2label[label] for label in x])\n",
    "df_cedr_test['labels'] = df_cedr_test['labels'].apply(lambda x: [cedr_id2label[label] for label in x])"
   ]
  },
  {
   "cell_type": "code",
   "execution_count": 8,
   "metadata": {},
   "outputs": [],
   "source": [
    "# Объединение DataFrame\n",
    "concatenated_df = pd.concat([df_cedr_train, df_cedr_test])\n",
    "\n",
    "# Изменение индексов\n",
    "concatenated_df = concatenated_df.reset_index(drop=True)"
   ]
  },
  {
   "cell_type": "code",
   "execution_count": 16,
   "metadata": {},
   "outputs": [],
   "source": [
    "concatenated_df['source'] = concatenated_df['source'].apply(lambda x: 'cedr_' + x)"
   ]
  },
  {
   "cell_type": "code",
   "execution_count": 17,
   "metadata": {},
   "outputs": [],
   "source": [
    "path = '/Users/vlasov/Desktop/current_projects/my_first_data_project/mfdp-sentiment/data/raw/emotions/cedr.csv'\n",
    "concatenated_df.to_csv(path, index=False)"
   ]
  },
  {
   "cell_type": "code",
   "execution_count": 18,
   "metadata": {},
   "outputs": [
    {
     "data": {
      "text/html": [
       "<div>\n",
       "<style scoped>\n",
       "    .dataframe tbody tr th:only-of-type {\n",
       "        vertical-align: middle;\n",
       "    }\n",
       "\n",
       "    .dataframe tbody tr th {\n",
       "        vertical-align: top;\n",
       "    }\n",
       "\n",
       "    .dataframe thead th {\n",
       "        text-align: right;\n",
       "    }\n",
       "</style>\n",
       "<table border=\"1\" class=\"dataframe\">\n",
       "  <thead>\n",
       "    <tr style=\"text-align: right;\">\n",
       "      <th></th>\n",
       "      <th>text</th>\n",
       "      <th>labels</th>\n",
       "      <th>source</th>\n",
       "    </tr>\n",
       "  </thead>\n",
       "  <tbody>\n",
       "    <tr>\n",
       "      <th>0</th>\n",
       "      <td>Суровый гималайский медведь .</td>\n",
       "      <td>[]</td>\n",
       "      <td>cedr_lj</td>\n",
       "    </tr>\n",
       "    <tr>\n",
       "      <th>1</th>\n",
       "      <td>Так, обнаружено несколько проблем с дисплеем (...</td>\n",
       "      <td>[]</td>\n",
       "      <td>cedr_lenta</td>\n",
       "    </tr>\n",
       "    <tr>\n",
       "      <th>2</th>\n",
       "      <td>У меня остается только один вопрос - является ...</td>\n",
       "      <td>[surprise]</td>\n",
       "      <td>cedr_lj</td>\n",
       "    </tr>\n",
       "    <tr>\n",
       "      <th>3</th>\n",
       "      <td>Забавно как люди в возрасте удивляются входящи...</td>\n",
       "      <td>[joy]</td>\n",
       "      <td>cedr_twitter</td>\n",
       "    </tr>\n",
       "    <tr>\n",
       "      <th>4</th>\n",
       "      <td>Издание The Register отмечает, что у владельце...</td>\n",
       "      <td>[]</td>\n",
       "      <td>cedr_lenta</td>\n",
       "    </tr>\n",
       "    <tr>\n",
       "      <th>...</th>\n",
       "      <td>...</td>\n",
       "      <td>...</td>\n",
       "      <td>...</td>\n",
       "    </tr>\n",
       "    <tr>\n",
       "      <th>9405</th>\n",
       "      <td>Даже удивительно .</td>\n",
       "      <td>[surprise]</td>\n",
       "      <td>cedr_lj</td>\n",
       "    </tr>\n",
       "    <tr>\n",
       "      <th>9406</th>\n",
       "      <td>Как же я соскучился по Испании :(</td>\n",
       "      <td>[sadness]</td>\n",
       "      <td>cedr_twitter</td>\n",
       "    </tr>\n",
       "    <tr>\n",
       "      <th>9407</th>\n",
       "      <td>Как же я скучаю по этому месту ;(</td>\n",
       "      <td>[sadness]</td>\n",
       "      <td>cedr_twitter</td>\n",
       "    </tr>\n",
       "    <tr>\n",
       "      <th>9408</th>\n",
       "      <td>Изображение породило множество шуток.</td>\n",
       "      <td>[]</td>\n",
       "      <td>cedr_lenta</td>\n",
       "    </tr>\n",
       "    <tr>\n",
       "      <th>9409</th>\n",
       "      <td>Суровая реальность(</td>\n",
       "      <td>[sadness]</td>\n",
       "      <td>cedr_twitter</td>\n",
       "    </tr>\n",
       "  </tbody>\n",
       "</table>\n",
       "<p>9410 rows × 3 columns</p>\n",
       "</div>"
      ],
      "text/plain": [
       "                                                   text      labels   \n",
       "0                         Суровый гималайский медведь .          []  \\\n",
       "1     Так, обнаружено несколько проблем с дисплеем (...          []   \n",
       "2     У меня остается только один вопрос - является ...  [surprise]   \n",
       "3     Забавно как люди в возрасте удивляются входящи...       [joy]   \n",
       "4     Издание The Register отмечает, что у владельце...          []   \n",
       "...                                                 ...         ...   \n",
       "9405                                 Даже удивительно .  [surprise]   \n",
       "9406                  Как же я соскучился по Испании :(   [sadness]   \n",
       "9407                  Как же я скучаю по этому месту ;(   [sadness]   \n",
       "9408              Изображение породило множество шуток.          []   \n",
       "9409                                Суровая реальность(   [sadness]   \n",
       "\n",
       "            source  \n",
       "0          cedr_lj  \n",
       "1       cedr_lenta  \n",
       "2          cedr_lj  \n",
       "3     cedr_twitter  \n",
       "4       cedr_lenta  \n",
       "...            ...  \n",
       "9405       cedr_lj  \n",
       "9406  cedr_twitter  \n",
       "9407  cedr_twitter  \n",
       "9408    cedr_lenta  \n",
       "9409  cedr_twitter  \n",
       "\n",
       "[9410 rows x 3 columns]"
      ]
     },
     "execution_count": 18,
     "metadata": {},
     "output_type": "execute_result"
    }
   ],
   "source": [
    "concatenated_df"
   ]
  },
  {
   "cell_type": "code",
   "execution_count": null,
   "metadata": {},
   "outputs": [],
   "source": []
  }
 ],
 "metadata": {
  "kernelspec": {
   "display_name": "Python 3.11.3 ('.venv': poetry)",
   "language": "python",
   "name": "python3"
  },
  "language_info": {
   "codemirror_mode": {
    "name": "ipython",
    "version": 3
   },
   "file_extension": ".py",
   "mimetype": "text/x-python",
   "name": "python",
   "nbconvert_exporter": "python",
   "pygments_lexer": "ipython3",
   "version": "3.11.3"
  },
  "orig_nbformat": 4,
  "vscode": {
   "interpreter": {
    "hash": "4b3f355f1dd6d5c7f47ca8dd9f678c48d47df2f49b0709e70a441e9027e7d696"
   }
  }
 },
 "nbformat": 4,
 "nbformat_minor": 2
}
