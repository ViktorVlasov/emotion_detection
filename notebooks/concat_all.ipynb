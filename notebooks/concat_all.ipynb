{
 "cells": [
  {
   "cell_type": "code",
   "execution_count": 1,
   "metadata": {},
   "outputs": [],
   "source": [
    "import pandas as pd\n",
    "from pathlib import Path\n",
    "from ast import literal_eval"
   ]
  },
  {
   "cell_type": "code",
   "execution_count": 2,
   "metadata": {},
   "outputs": [],
   "source": [
    "path_to_data = Path('/Users/vlasov/Desktop/current_projects/my_first_data_project/mfdp-sentiment/data/raw/emotions')"
   ]
  },
  {
   "cell_type": "code",
   "execution_count": 3,
   "metadata": {},
   "outputs": [],
   "source": [
    "EmotionsGo_df = pd.read_csv(path_to_data / 'EmotionsGo_RU.csv')\n",
    "ok_ml_cup = pd.read_csv(path_to_data / 'ok_ml_cup.csv')\n",
    "cedr = pd.read_csv(path_to_data / 'cedr.csv')\n",
    "dairai_emotion = pd.read_csv(path_to_data / 'dairai_emotion.csv')"
   ]
  },
  {
   "cell_type": "code",
   "execution_count": 4,
   "metadata": {},
   "outputs": [],
   "source": [
    "concatenated_df = pd.concat([cedr, EmotionsGo_df, dairai_emotion, ok_ml_cup])\n",
    "concatenated_df = concatenated_df.reset_index(drop=True)"
   ]
  },
  {
   "cell_type": "code",
   "execution_count": 5,
   "metadata": {},
   "outputs": [
    {
     "data": {
      "text/plain": [
       "labels\n",
       "['anger']                      30409\n",
       "['neutral']                    16088\n",
       "['joy']                         9864\n",
       "['sadness']                     8603\n",
       "[]                              3777\n",
       "['fear']                        3059\n",
       "['surprise']                    2396\n",
       "['love']                        1641\n",
       "['joy', 'surprise']               31\n",
       "['sadness', 'anger']              16\n",
       "['sadness', 'fear']               15\n",
       "['sadness', 'joy']                13\n",
       "['fear', 'joy']                    8\n",
       "['joy', 'fear']                    7\n",
       "['joy', 'sadness']                 6\n",
       "['fear', 'sadness']                4\n",
       "['fear', 'anger']                  4\n",
       "['fear', 'surprise']               4\n",
       "['anger', 'sadness']               3\n",
       "['anger', 'joy']                   3\n",
       "['sadness', 'surprise']            3\n",
       "['surprise', 'sadness']            2\n",
       "['joy', 'anger']                   2\n",
       "['surprise', 'joy']                2\n",
       "['surprise', 'fear']               1\n",
       "['sadness', 'anger', 'joy']        1\n",
       "['surprise', 'anger']              1\n",
       "['anger', 'fear']                  1\n",
       "Name: count, dtype: int64"
      ]
     },
     "execution_count": 5,
     "metadata": {},
     "output_type": "execute_result"
    }
   ],
   "source": [
    "concatenated_df['labels'].value_counts()"
   ]
  },
  {
   "cell_type": "code",
   "execution_count": 6,
   "metadata": {},
   "outputs": [],
   "source": [
    "concatenated_df['labels'] = concatenated_df['labels'].apply(literal_eval)\n",
    "concatenated_df['labels'] = concatenated_df['labels'].apply(lambda x: ['neutral'] if len(x) == 0 else x)\n",
    "concatenated_df = concatenated_df[concatenated_df['labels'].apply(lambda x: len(x) == 1)]\n",
    "concatenated_df = concatenated_df[concatenated_df['labels'].apply(lambda x: 'love' not in x)]"
   ]
  },
  {
   "cell_type": "code",
   "execution_count": 7,
   "metadata": {},
   "outputs": [
    {
     "data": {
      "text/plain": [
       "labels\n",
       "[anger]       30409\n",
       "[neutral]     19865\n",
       "[joy]          9864\n",
       "[sadness]      8603\n",
       "[fear]         3059\n",
       "[surprise]     2396\n",
       "Name: count, dtype: int64"
      ]
     },
     "execution_count": 7,
     "metadata": {},
     "output_type": "execute_result"
    }
   ],
   "source": [
    "concatenated_df['labels'].value_counts()"
   ]
  },
  {
   "cell_type": "code",
   "execution_count": 21,
   "metadata": {},
   "outputs": [],
   "source": [
    "concatenated_df['labels'] = concatenated_df['labels'].apply(lambda x: x[0])"
   ]
  },
  {
   "cell_type": "code",
   "execution_count": 22,
   "metadata": {},
   "outputs": [],
   "source": [
    "concatenated_df.to_csv(path_to_data / 'six_emotions.csv', encoding='utf-8', index=False)"
   ]
  },
  {
   "cell_type": "code",
   "execution_count": 27,
   "metadata": {},
   "outputs": [
    {
     "data": {
      "text/plain": [
       "source\n",
       "OK_ml_CUP           25258\n",
       "EmotionsGo_oneAI    21296\n",
       "dairai_emotion      18359\n",
       "cedr_twitter         3401\n",
       "cedr_lj              3035\n",
       "cedr_lenta           2847\n",
       "Name: count, dtype: int64"
      ]
     },
     "execution_count": 27,
     "metadata": {},
     "output_type": "execute_result"
    }
   ],
   "source": [
    "concatenated_df['source'].value_counts()"
   ]
  },
  {
   "cell_type": "code",
   "execution_count": null,
   "metadata": {},
   "outputs": [],
   "source": []
  }
 ],
 "metadata": {
  "kernelspec": {
   "display_name": "Python 3.11.3 ('.venv': poetry)",
   "language": "python",
   "name": "python3"
  },
  "language_info": {
   "codemirror_mode": {
    "name": "ipython",
    "version": 3
   },
   "file_extension": ".py",
   "mimetype": "text/x-python",
   "name": "python",
   "nbconvert_exporter": "python",
   "pygments_lexer": "ipython3",
   "version": "3.11.3"
  },
  "orig_nbformat": 4,
  "vscode": {
   "interpreter": {
    "hash": "4b3f355f1dd6d5c7f47ca8dd9f678c48d47df2f49b0709e70a441e9027e7d696"
   }
  }
 },
 "nbformat": 4,
 "nbformat_minor": 2
}
