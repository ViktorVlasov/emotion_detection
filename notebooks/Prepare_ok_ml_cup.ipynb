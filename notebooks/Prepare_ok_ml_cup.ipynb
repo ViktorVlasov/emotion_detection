{
 "cells": [
  {
   "cell_type": "code",
   "execution_count": 9,
   "metadata": {},
   "outputs": [
    {
     "data": {
      "text/plain": [
       "2"
      ]
     },
     "execution_count": 9,
     "metadata": {},
     "output_type": "execute_result"
    }
   ],
   "source": [
    "s = '1 апреля'\n",
    "s.find('апр')"
   ]
  },
  {
   "cell_type": "code",
   "execution_count": 1,
   "metadata": {},
   "outputs": [],
   "source": [
    "import pandas as pd\n",
    "from pathlib import Path\n"
   ]
  },
  {
   "cell_type": "code",
   "execution_count": 2,
   "metadata": {},
   "outputs": [],
   "source": [
    "path_to_df = Path('/Users/vlasov/Desktop/current_projects/my_first_data_project/mfdp-sentiment/data/raw/emotions/toxic_ok')\n",
    "with open(path_to_df) as f:\n",
    "    s = f.readlines()\n"
   ]
  },
  {
   "cell_type": "code",
   "execution_count": 3,
   "metadata": {},
   "outputs": [],
   "source": [
    "s = [i.strip().split('\\t') for i in s]"
   ]
  },
  {
   "cell_type": "code",
   "execution_count": 4,
   "metadata": {},
   "outputs": [],
   "source": [
    "s_aggr = [line[-1] for line in s if '__label__THREAT' in line or '__label__INSULT' in line]"
   ]
  },
  {
   "cell_type": "code",
   "execution_count": 5,
   "metadata": {},
   "outputs": [],
   "source": [
    "import re\n",
    "\n",
    "def keep_russian_punctuation(text):\n",
    "    text = re.sub(r'ё', 'е', text, flags=re.IGNORECASE)\n",
    "    pattern = r'[а-яА-Я.,?!()]+'\n",
    "    filtered_text = re.findall(pattern, text)\n",
    "    cleaned_text = ' '.join(filtered_text)\n",
    "    return cleaned_text"
   ]
  },
  {
   "cell_type": "code",
   "execution_count": 6,
   "metadata": {},
   "outputs": [],
   "source": [
    "s_aggr = [keep_russian_punctuation(line) for line in s_aggr]"
   ]
  },
  {
   "cell_type": "code",
   "execution_count": 7,
   "metadata": {},
   "outputs": [
    {
     "data": {
      "text/plain": [
       "['дворника надо тоже уничтожить!',\n",
       " 'спасатель? просто петух чванливый, взял наших пацанов в заложники и торгуется. позор! как бы сам в щи не попал.',\n",
       " 'бедьненький,давайте скинемся,а то сдохнет мразь!',\n",
       " 'модератор заебал. я хочу смотреть и читать новости про жигалово. а ты всякое говно ставишь.',\n",
       " 'долбаеб . тебе насрать на слезы матери . видать хорошо пилоткой хорошо накрыла тебя',\n",
       " 'пиздеж, не его слова оно чмо',\n",
       " 'сука, чтобы ты горел в адуу',\n",
       " 'как этого хуеплета вообще со стадиона выпустили. записали бы в мясо чтоб не опознали.',\n",
       " 'разрубить пидораса и по покетам расфасовать',\n",
       " 'в ростовской области стоит ввшная дон ....ее одной хватит чтоб всю вашу блядюшную хохлятскую так называемую армию раскрошить... как повара укроп крошат... )',\n",
       " 'хозяина сволочугу убить!',\n",
       " 'фамилия этого пидораса и его жены кравцовы, краснодарский край, еще мудак и нарик к то му же, ну пидор прославился ты на всю страну, показали даже по центральному тв, как он издевается над ребенком, это его дочь, ну пидарок жди гостей, тебя на ремни резать будут, сперва подвесят за яйца, лучше пидор тебе самому застрелиться, можешь на зону отехать но это еще хуже в твоем случае.',\n",
       " 'твари, никогда не забуду, как собчак не стесняясь по тнлевизору зачвила, что золотая молодежь живет на барвихи, а остольные это быдло сволочь вышедшея из парнографической передачи, сама сука и тварь и ее настоящее и будущее проклятие народа!!!',\n",
       " 'пидоры один на один очко играет чмыри путинские',\n",
       " 'выебать петуха',\n",
       " 'рот свой закрой подстилка путинская',\n",
       " 'козел он и в полиции козел',\n",
       " 'пидоры везде одинаковы',\n",
       " 'пару тройку активистов майданутых заковать в каналы и лес валить этапировать показательно и все успокоится, а то кастрюлеголовые реально всю россию раскачают им же не имется ни чему не учит пример хохляндии. хохляндия же показала всему миру какими долбодятлами не надо быть, однако эти дятлы думают что в россии такого не будет, а будет все в правовом поле, а хуюшки вашей дунюшке именно так же как в хохляндии все и будет, у пиндосов один сценарий для всех цветных революции',\n",
       " 'не пизди, когда не знаешь. за умного сойдешь.( )']"
      ]
     },
     "execution_count": 7,
     "metadata": {},
     "output_type": "execute_result"
    }
   ],
   "source": [
    "s_aggr[:20]"
   ]
  },
  {
   "cell_type": "code",
   "execution_count": 16,
   "metadata": {},
   "outputs": [],
   "source": [
    "df_aggr = pd.DataFrame({'text': s_aggr,\n",
    "                        'labels': [['anger']] * len(s_aggr),\n",
    "                        'source': 'OK_ml_CUP'})"
   ]
  },
  {
   "cell_type": "code",
   "execution_count": 17,
   "metadata": {},
   "outputs": [],
   "source": [
    "path = '/Users/vlasov/Desktop/current_projects/my_first_data_project/mfdp-sentiment/data/raw/emotions/'\n",
    "df_aggr.to_csv(path + 'ok_ml_cup.csv', index=False)"
   ]
  },
  {
   "cell_type": "code",
   "execution_count": 18,
   "metadata": {},
   "outputs": [
    {
     "data": {
      "text/html": [
       "<div>\n",
       "<style scoped>\n",
       "    .dataframe tbody tr th:only-of-type {\n",
       "        vertical-align: middle;\n",
       "    }\n",
       "\n",
       "    .dataframe tbody tr th {\n",
       "        vertical-align: top;\n",
       "    }\n",
       "\n",
       "    .dataframe thead th {\n",
       "        text-align: right;\n",
       "    }\n",
       "</style>\n",
       "<table border=\"1\" class=\"dataframe\">\n",
       "  <thead>\n",
       "    <tr style=\"text-align: right;\">\n",
       "      <th></th>\n",
       "      <th>text</th>\n",
       "      <th>labels</th>\n",
       "      <th>source</th>\n",
       "    </tr>\n",
       "  </thead>\n",
       "  <tbody>\n",
       "    <tr>\n",
       "      <th>0</th>\n",
       "      <td>дворника надо тоже уничтожить!</td>\n",
       "      <td>[anger]</td>\n",
       "      <td>OK_ml_CUP</td>\n",
       "    </tr>\n",
       "    <tr>\n",
       "      <th>1</th>\n",
       "      <td>спасатель? просто петух чванливый, взял наших ...</td>\n",
       "      <td>[anger]</td>\n",
       "      <td>OK_ml_CUP</td>\n",
       "    </tr>\n",
       "    <tr>\n",
       "      <th>2</th>\n",
       "      <td>бедьненький,давайте скинемся,а то сдохнет мразь!</td>\n",
       "      <td>[anger]</td>\n",
       "      <td>OK_ml_CUP</td>\n",
       "    </tr>\n",
       "    <tr>\n",
       "      <th>3</th>\n",
       "      <td>модератор заебал. я хочу смотреть и читать нов...</td>\n",
       "      <td>[anger]</td>\n",
       "      <td>OK_ml_CUP</td>\n",
       "    </tr>\n",
       "    <tr>\n",
       "      <th>4</th>\n",
       "      <td>долбаеб . тебе насрать на слезы матери . видат...</td>\n",
       "      <td>[anger]</td>\n",
       "      <td>OK_ml_CUP</td>\n",
       "    </tr>\n",
       "    <tr>\n",
       "      <th>5</th>\n",
       "      <td>пиздеж, не его слова оно чмо</td>\n",
       "      <td>[anger]</td>\n",
       "      <td>OK_ml_CUP</td>\n",
       "    </tr>\n",
       "    <tr>\n",
       "      <th>6</th>\n",
       "      <td>сука, чтобы ты горел в адуу</td>\n",
       "      <td>[anger]</td>\n",
       "      <td>OK_ml_CUP</td>\n",
       "    </tr>\n",
       "    <tr>\n",
       "      <th>7</th>\n",
       "      <td>как этого хуеплета вообще со стадиона выпустил...</td>\n",
       "      <td>[anger]</td>\n",
       "      <td>OK_ml_CUP</td>\n",
       "    </tr>\n",
       "    <tr>\n",
       "      <th>8</th>\n",
       "      <td>разрубить пидораса и по покетам расфасовать</td>\n",
       "      <td>[anger]</td>\n",
       "      <td>OK_ml_CUP</td>\n",
       "    </tr>\n",
       "    <tr>\n",
       "      <th>9</th>\n",
       "      <td>в ростовской области стоит ввшная дон ....ее о...</td>\n",
       "      <td>[anger]</td>\n",
       "      <td>OK_ml_CUP</td>\n",
       "    </tr>\n",
       "  </tbody>\n",
       "</table>\n",
       "</div>"
      ],
      "text/plain": [
       "                                                text   labels     source\n",
       "0                     дворника надо тоже уничтожить!  [anger]  OK_ml_CUP\n",
       "1  спасатель? просто петух чванливый, взял наших ...  [anger]  OK_ml_CUP\n",
       "2   бедьненький,давайте скинемся,а то сдохнет мразь!  [anger]  OK_ml_CUP\n",
       "3  модератор заебал. я хочу смотреть и читать нов...  [anger]  OK_ml_CUP\n",
       "4  долбаеб . тебе насрать на слезы матери . видат...  [anger]  OK_ml_CUP\n",
       "5                       пиздеж, не его слова оно чмо  [anger]  OK_ml_CUP\n",
       "6                        сука, чтобы ты горел в адуу  [anger]  OK_ml_CUP\n",
       "7  как этого хуеплета вообще со стадиона выпустил...  [anger]  OK_ml_CUP\n",
       "8        разрубить пидораса и по покетам расфасовать  [anger]  OK_ml_CUP\n",
       "9  в ростовской области стоит ввшная дон ....ее о...  [anger]  OK_ml_CUP"
      ]
     },
     "execution_count": 18,
     "metadata": {},
     "output_type": "execute_result"
    }
   ],
   "source": [
    "df_aggr.head(10)"
   ]
  },
  {
   "cell_type": "code",
   "execution_count": null,
   "metadata": {},
   "outputs": [],
   "source": []
  }
 ],
 "metadata": {
  "kernelspec": {
   "display_name": "Python 3.11.3 ('.venv': poetry)",
   "language": "python",
   "name": "python3"
  },
  "language_info": {
   "codemirror_mode": {
    "name": "ipython",
    "version": 3
   },
   "file_extension": ".py",
   "mimetype": "text/x-python",
   "name": "python",
   "nbconvert_exporter": "python",
   "pygments_lexer": "ipython3",
   "version": "3.11.3"
  },
  "orig_nbformat": 4,
  "vscode": {
   "interpreter": {
    "hash": "4b3f355f1dd6d5c7f47ca8dd9f678c48d47df2f49b0709e70a441e9027e7d696"
   }
  }
 },
 "nbformat": 4,
 "nbformat_minor": 2
}
